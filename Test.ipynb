{
 "cells": [
  {
   "cell_type": "markdown",
   "metadata": {},
   "source": [
    "## 1. Data preparation\n",
    "Import packages"
   ]
  },
  {
   "cell_type": "code",
   "execution_count": 1,
   "metadata": {},
   "outputs": [],
   "source": [
    "import folium\n",
    "from geopy.geocoders import Nominatim # convert an address into latitude and longitude values\n",
    "import urllib.request  as urllib2\n",
    "import pandas as pd\n",
    "import json\n",
    "import numpy as np\n",
    "import requests\n",
    "from pandas.io.json import json_normalize # tranform JSON file into a pandas dataframe\n",
    "import matplotlib.cm as cm\n",
    "import matplotlib.colors as colors\n",
    "from sklearn.cluster import KMeans\n",
    "import lxml\n",
    "import requests"
   ]
  },
  {
   "cell_type": "code",
   "execution_count": 2,
   "metadata": {},
   "outputs": [],
   "source": [
    "pd.set_option('display.max_columns', None)\n",
    "pd.set_option('display.max_rows', None)"
   ]
  },
  {
   "cell_type": "markdown",
   "metadata": {},
   "source": [
    "### 1.1. Read data about crime rate of cities"
   ]
  },
  {
   "cell_type": "code",
   "execution_count": 3,
   "metadata": {},
   "outputs": [
    {
     "data": {
      "text/html": [
       "<div>\n",
       "<style scoped>\n",
       "    .dataframe tbody tr th:only-of-type {\n",
       "        vertical-align: middle;\n",
       "    }\n",
       "\n",
       "    .dataframe tbody tr th {\n",
       "        vertical-align: top;\n",
       "    }\n",
       "\n",
       "    .dataframe thead th {\n",
       "        text-align: right;\n",
       "    }\n",
       "</style>\n",
       "<table border=\"1\" class=\"dataframe\">\n",
       "  <thead>\n",
       "    <tr style=\"text-align: right;\">\n",
       "      <th></th>\n",
       "      <th>State</th>\n",
       "      <th>City</th>\n",
       "      <th>Population</th>\n",
       "      <th>Total</th>\n",
       "      <th>Murder and Nonnegligent Manslaughter</th>\n",
       "      <th>Rape1</th>\n",
       "      <th>Robbery</th>\n",
       "      <th>Aggravated Assault</th>\n",
       "      <th>Total.1</th>\n",
       "      <th>Burglary</th>\n",
       "      <th>Larceny-Theft</th>\n",
       "      <th>Motor Vehicle Theft</th>\n",
       "      <th>Arson2</th>\n",
       "    </tr>\n",
       "  </thead>\n",
       "  <tbody>\n",
       "    <tr>\n",
       "      <th>0</th>\n",
       "      <td>Alabama</td>\n",
       "      <td>Mobile3</td>\n",
       "      <td>248431</td>\n",
       "      <td>740.25</td>\n",
       "      <td>20.13</td>\n",
       "      <td>57.16</td>\n",
       "      <td>177.11</td>\n",
       "      <td>485.85</td>\n",
       "      <td>5453.83</td>\n",
       "      <td>1216.84</td>\n",
       "      <td>3730.21</td>\n",
       "      <td>506.78</td>\n",
       "      <td>22.94</td>\n",
       "    </tr>\n",
       "    <tr>\n",
       "      <th>1</th>\n",
       "      <td>Alaska</td>\n",
       "      <td>Anchorage</td>\n",
       "      <td>296188</td>\n",
       "      <td>1203.29</td>\n",
       "      <td>9.12</td>\n",
       "      <td>132.01</td>\n",
       "      <td>262.67</td>\n",
       "      <td>799.49</td>\n",
       "      <td>5415.82</td>\n",
       "      <td>748.17</td>\n",
       "      <td>3619.66</td>\n",
       "      <td>1047.98</td>\n",
       "      <td>20.93</td>\n",
       "    </tr>\n",
       "    <tr>\n",
       "      <th>2</th>\n",
       "      <td>Arizona</td>\n",
       "      <td>Chandler</td>\n",
       "      <td>249355</td>\n",
       "      <td>259.47</td>\n",
       "      <td>2.01</td>\n",
       "      <td>52.13</td>\n",
       "      <td>56.95</td>\n",
       "      <td>148.38</td>\n",
       "      <td>2329.61</td>\n",
       "      <td>314.41</td>\n",
       "      <td>1866.01</td>\n",
       "      <td>149.18</td>\n",
       "      <td>NaN</td>\n",
       "    </tr>\n",
       "    <tr>\n",
       "      <th>3</th>\n",
       "      <td>Arizona</td>\n",
       "      <td>Gilbert</td>\n",
       "      <td>242090</td>\n",
       "      <td>85.51</td>\n",
       "      <td>2.07</td>\n",
       "      <td>16.11</td>\n",
       "      <td>21.07</td>\n",
       "      <td>46.26</td>\n",
       "      <td>1385.85</td>\n",
       "      <td>192.49</td>\n",
       "      <td>1137.59</td>\n",
       "      <td>55.76</td>\n",
       "      <td>12.39</td>\n",
       "    </tr>\n",
       "    <tr>\n",
       "      <th>4</th>\n",
       "      <td>Arizona</td>\n",
       "      <td>Glendale</td>\n",
       "      <td>249273</td>\n",
       "      <td>488.22</td>\n",
       "      <td>4.81</td>\n",
       "      <td>38.91</td>\n",
       "      <td>192.96</td>\n",
       "      <td>251.53</td>\n",
       "      <td>4530.37</td>\n",
       "      <td>637.45</td>\n",
       "      <td>3426.36</td>\n",
       "      <td>466.56</td>\n",
       "      <td>19.26</td>\n",
       "    </tr>\n",
       "  </tbody>\n",
       "</table>\n",
       "</div>"
      ],
      "text/plain": [
       "     State       City  Population    Total  \\\n",
       "0  Alabama    Mobile3      248431   740.25   \n",
       "1   Alaska  Anchorage      296188  1203.29   \n",
       "2  Arizona   Chandler      249355   259.47   \n",
       "3  Arizona    Gilbert      242090    85.51   \n",
       "4  Arizona   Glendale      249273   488.22   \n",
       "\n",
       "   Murder and Nonnegligent Manslaughter   Rape1  Robbery  Aggravated Assault  \\\n",
       "0                                 20.13   57.16   177.11              485.85   \n",
       "1                                  9.12  132.01   262.67              799.49   \n",
       "2                                  2.01   52.13    56.95              148.38   \n",
       "3                                  2.07   16.11    21.07               46.26   \n",
       "4                                  4.81   38.91   192.96              251.53   \n",
       "\n",
       "   Total.1  Burglary  Larceny-Theft  Motor Vehicle Theft  Arson2  \n",
       "0  5453.83   1216.84        3730.21               506.78   22.94  \n",
       "1  5415.82    748.17        3619.66              1047.98   20.93  \n",
       "2  2329.61    314.41        1866.01               149.18     NaN  \n",
       "3  1385.85    192.49        1137.59                55.76   12.39  \n",
       "4  4530.37    637.45        3426.36               466.56   19.26  "
      ]
     },
     "execution_count": 3,
     "metadata": {},
     "output_type": "execute_result"
    }
   ],
   "source": [
    "#Read the page\n",
    "url_wiki = \"https://en.wikipedia.org/wiki/List_of_United_States_cities_by_crime_rate\"\n",
    "critme_raw_df = pd.read_html(url_wiki, header=1)[0].copy()\n",
    "critme_raw_df.head()"
   ]
  },
  {
   "cell_type": "code",
   "execution_count": 4,
   "metadata": {},
   "outputs": [
    {
     "name": "stdout",
     "output_type": "stream",
     "text": [
      "State                                   100\n",
      "City                                    100\n",
      "Population                              100\n",
      "Total                                    96\n",
      "Murder and Nonnegligent Manslaughter    100\n",
      "Rape1                                    96\n",
      "Robbery                                 100\n",
      "Aggravated Assault                      100\n",
      "Total.1                                 100\n",
      "Burglary                                100\n",
      "Larceny-Theft                           100\n",
      "Motor Vehicle Theft                     100\n",
      "Arson2                                   92\n",
      "dtype: int64\n"
     ]
    }
   ],
   "source": [
    "print(critme_raw_df.count())"
   ]
  },
  {
   "cell_type": "markdown",
   "metadata": {},
   "source": [
    "#### Data cleaning\n",
    "We will consider cities with a population of less than 500 thousand"
   ]
  },
  {
   "cell_type": "code",
   "execution_count": 5,
   "metadata": {},
   "outputs": [
    {
     "name": "stdout",
     "output_type": "stream",
     "text": [
      "State         4\n",
      "City          4\n",
      "Population    4\n",
      "Total         4\n",
      "Total.1       4\n",
      "Arson2        4\n",
      "dtype: int64\n"
     ]
    },
    {
     "data": {
      "text/html": [
       "<div>\n",
       "<style scoped>\n",
       "    .dataframe tbody tr th:only-of-type {\n",
       "        vertical-align: middle;\n",
       "    }\n",
       "\n",
       "    .dataframe tbody tr th {\n",
       "        vertical-align: top;\n",
       "    }\n",
       "\n",
       "    .dataframe thead th {\n",
       "        text-align: right;\n",
       "    }\n",
       "</style>\n",
       "<table border=\"1\" class=\"dataframe\">\n",
       "  <thead>\n",
       "    <tr style=\"text-align: right;\">\n",
       "      <th></th>\n",
       "      <th>State</th>\n",
       "      <th>City</th>\n",
       "      <th>Population</th>\n",
       "      <th>Total</th>\n",
       "      <th>Total.1</th>\n",
       "      <th>Arson2</th>\n",
       "    </tr>\n",
       "  </thead>\n",
       "  <tbody>\n",
       "    <tr>\n",
       "      <th>20</th>\n",
       "      <td>California</td>\n",
       "      <td>San Bernardino</td>\n",
       "      <td>217259</td>\n",
       "      <td>1291.09</td>\n",
       "      <td>3867.73</td>\n",
       "      <td>30.84</td>\n",
       "    </tr>\n",
       "    <tr>\n",
       "      <th>25</th>\n",
       "      <td>California</td>\n",
       "      <td>Santa Clarita</td>\n",
       "      <td>216350</td>\n",
       "      <td>162.70</td>\n",
       "      <td>1424.08</td>\n",
       "      <td>6.01</td>\n",
       "    </tr>\n",
       "    <tr>\n",
       "      <th>44</th>\n",
       "      <td>Iowa</td>\n",
       "      <td>Des Moines</td>\n",
       "      <td>217277</td>\n",
       "      <td>670.11</td>\n",
       "      <td>4413.26</td>\n",
       "      <td>19.33</td>\n",
       "    </tr>\n",
       "    <tr>\n",
       "      <th>97</th>\n",
       "      <td>Washington</td>\n",
       "      <td>Spokane</td>\n",
       "      <td>217066</td>\n",
       "      <td>626.54</td>\n",
       "      <td>7231.44</td>\n",
       "      <td>23.03</td>\n",
       "    </tr>\n",
       "  </tbody>\n",
       "</table>\n",
       "</div>"
      ],
      "text/plain": [
       "         State            City  Population    Total  Total.1  Arson2\n",
       "20  California  San Bernardino      217259  1291.09  3867.73   30.84\n",
       "25  California   Santa Clarita      216350   162.70  1424.08    6.01\n",
       "44        Iowa      Des Moines      217277   670.11  4413.26   19.33\n",
       "97  Washington         Spokane      217066   626.54  7231.44   23.03"
      ]
     },
     "execution_count": 5,
     "metadata": {},
     "output_type": "execute_result"
    }
   ],
   "source": [
    "critme_df = critme_raw_df\n",
    "critme_df = critme_df[critme_df.Population < 220000]\n",
    "critme_df = critme_df[['State', 'City', 'Population', 'Total', 'Total.1', 'Arson2']]\n",
    "print(critme_df.count())\n",
    "critme_df.head()"
   ]
  },
  {
   "cell_type": "markdown",
   "metadata": {},
   "source": [
    "Drop NaN"
   ]
  },
  {
   "cell_type": "code",
   "execution_count": 6,
   "metadata": {},
   "outputs": [
    {
     "data": {
      "text/html": [
       "<div>\n",
       "<style scoped>\n",
       "    .dataframe tbody tr th:only-of-type {\n",
       "        vertical-align: middle;\n",
       "    }\n",
       "\n",
       "    .dataframe tbody tr th {\n",
       "        vertical-align: top;\n",
       "    }\n",
       "\n",
       "    .dataframe thead th {\n",
       "        text-align: right;\n",
       "    }\n",
       "</style>\n",
       "<table border=\"1\" class=\"dataframe\">\n",
       "  <thead>\n",
       "    <tr style=\"text-align: right;\">\n",
       "      <th></th>\n",
       "      <th>State</th>\n",
       "      <th>City</th>\n",
       "      <th>Population</th>\n",
       "      <th>Total</th>\n",
       "      <th>Total.1</th>\n",
       "      <th>Arson2</th>\n",
       "    </tr>\n",
       "  </thead>\n",
       "  <tbody>\n",
       "    <tr>\n",
       "      <th>20</th>\n",
       "      <td>California</td>\n",
       "      <td>San Bernardino</td>\n",
       "      <td>217259</td>\n",
       "      <td>1291.09</td>\n",
       "      <td>3867.73</td>\n",
       "      <td>30.84</td>\n",
       "    </tr>\n",
       "    <tr>\n",
       "      <th>25</th>\n",
       "      <td>California</td>\n",
       "      <td>Santa Clarita</td>\n",
       "      <td>216350</td>\n",
       "      <td>162.70</td>\n",
       "      <td>1424.08</td>\n",
       "      <td>6.01</td>\n",
       "    </tr>\n",
       "    <tr>\n",
       "      <th>44</th>\n",
       "      <td>Iowa</td>\n",
       "      <td>Des Moines</td>\n",
       "      <td>217277</td>\n",
       "      <td>670.11</td>\n",
       "      <td>4413.26</td>\n",
       "      <td>19.33</td>\n",
       "    </tr>\n",
       "    <tr>\n",
       "      <th>97</th>\n",
       "      <td>Washington</td>\n",
       "      <td>Spokane</td>\n",
       "      <td>217066</td>\n",
       "      <td>626.54</td>\n",
       "      <td>7231.44</td>\n",
       "      <td>23.03</td>\n",
       "    </tr>\n",
       "  </tbody>\n",
       "</table>\n",
       "</div>"
      ],
      "text/plain": [
       "         State            City  Population    Total  Total.1  Arson2\n",
       "20  California  San Bernardino      217259  1291.09  3867.73   30.84\n",
       "25  California   Santa Clarita      216350   162.70  1424.08    6.01\n",
       "44        Iowa      Des Moines      217277   670.11  4413.26   19.33\n",
       "97  Washington         Spokane      217066   626.54  7231.44   23.03"
      ]
     },
     "execution_count": 6,
     "metadata": {},
     "output_type": "execute_result"
    }
   ],
   "source": [
    "critme_df = critme_df.dropna()\n",
    "critme_df.head()"
   ]
  },
  {
   "cell_type": "markdown",
   "metadata": {},
   "source": [
    "Sum categories of crime"
   ]
  },
  {
   "cell_type": "code",
   "execution_count": 7,
   "metadata": {},
   "outputs": [
    {
     "name": "stdout",
     "output_type": "stream",
     "text": [
      "State         4\n",
      "City          4\n",
      "Population    4\n",
      "Crime_Rate    4\n",
      "dtype: int64\n"
     ]
    }
   ],
   "source": [
    "critme_df['Crime_Rate'] = critme_df['Total'] + critme_df['Total.1'] + critme_df['Arson2']\n",
    "critme_df_result = critme_df[['State', 'City', 'Population', 'Crime_Rate']]\n",
    "critme_df_result.head()\n",
    "print(critme_df_result.count())"
   ]
  },
  {
   "cell_type": "markdown",
   "metadata": {},
   "source": [
    "### 1.2 Create data abouf sport venues\n",
    "#### Set geolocator, parametes to Foursquare API"
   ]
  },
  {
   "cell_type": "code",
   "execution_count": 8,
   "metadata": {},
   "outputs": [],
   "source": [
    "geolocator = Nominatim(user_agent = 'test')\n",
    "CLIENT_ID = '1ROEGGL32JNNXXQVZ1XAQM1RN11GXZVG0OPQYTXUES1NZWKJ'\n",
    "CLIENT_SECRET = 'CV12M1JW2IX22BY2PDG1PPNPFBGRJIWIGOLYX5PFVXF4S1BE' \n",
    "VERSION = '20180604'\n",
    "LIMIT = 2000"
   ]
  },
  {
   "cell_type": "markdown",
   "metadata": {},
   "source": [
    "#### Count sport venues"
   ]
  },
  {
   "cell_type": "code",
   "execution_count": 9,
   "metadata": {},
   "outputs": [],
   "source": [
    "def count_venues(lat, lng, category_id_list, radius=10000):\n",
    "        \n",
    "    counter_list = []\n",
    "    \n",
    "    total_count = 0\n",
    "    \n",
    "    for category_id in category_id_list:\n",
    "        # create the API request URL\n",
    "        url = 'https://api.foursquare.com/v2/venues/explore?&client_id={}&client_secret={}&v={}&ll={},{}&radius={}&limit={}&categoryId={}'.format(\n",
    "            CLIENT_ID, \n",
    "            CLIENT_SECRET, \n",
    "            VERSION, \n",
    "            lat, \n",
    "            lng, \n",
    "            radius, \n",
    "            LIMIT,\n",
    "            category_id\n",
    "        )\n",
    "        \n",
    "        count = 0\n",
    "        # make the GET request\n",
    "        try:\n",
    "            result_get = requests.get(url).json()\n",
    "            count = len(result_get[\"response\"]['groups'][0]['items'])\n",
    "        except:\n",
    "            # retry one more time\n",
    "            try:\n",
    "                result_get = requests.get(url).json()\n",
    "                count = len(result_get[\"response\"]['groups'][0]['items'])\n",
    "            except:\n",
    "                print(result_get)\n",
    "                return []\n",
    "            \n",
    "        counter_list.append(count)\n",
    "        total_count += count\n",
    "    #print(counter_list)\n",
    "    \n",
    "    counter_list.append(total_count)\n",
    "    return counter_list"
   ]
  },
  {
   "cell_type": "markdown",
   "metadata": {},
   "source": [
    "#### Define categories of sport venues using Foursquare list of venue categories:\n",
    "https://developer.foursquare.com/docs/resources/categories"
   ]
  },
  {
   "cell_type": "code",
   "execution_count": 10,
   "metadata": {},
   "outputs": [],
   "source": [
    "categories = {'athletics stadium': '4bf58dd8d48988d187941735',\n",
    "              'badminton court': '52e81612bcbc57f1066b7a2b',\n",
    "              'baseball field': '4bf58dd8d48988d1e8941735',\n",
    "              'basketball court': '4bf58dd8d48988d1e1941735',\n",
    "              'football field': '4cce455aebf7b749d5e191f5',\n",
    "              'gym / fitness':  '4bf58dd8d48988d175941735',\n",
    "              'hockey field': '56aa371be4b08b9a8d57352c',\n",
    "              'rink': '4bf58dd8d48988d168941735',\n",
    "              'ski tracking': '4eb1c0f63b7b52c0e1adc2eb',\n",
    "              'sport club': '52e81612bcbc57f1066b7a2e',\n",
    "              'swimming school': '52e81612bcbc57f1066b7a44',\n",
    "              'tennis court': '4e39a956bd410d7aed40cbc3',\n",
    "              'volleyball court': '4eb1bf013b7b6f98df247e07'\n",
    "             }"
   ]
  },
  {
   "cell_type": "markdown",
   "metadata": {},
   "source": [
    "#### Get numbers of sport venues for each city"
   ]
  },
  {
   "cell_type": "code",
   "execution_count": 11,
   "metadata": {},
   "outputs": [
    {
     "name": "stdout",
     "output_type": "stream",
     "text": [
      "('San Bernardino', 34.1083449, -117.2897652)\n",
      "('Santa Clarita', 34.3916641, -118.542586)\n",
      "('Des Moines', 41.5910641, -93.6037149)\n",
      "('Spokane', 47.6579425, -117.4212265)\n"
     ]
    }
   ],
   "source": [
    "draft_data_list = []\n",
    "for state, c, p, cr in zip(critme_df_result['State'], critme_df_result['City'], critme_df_result['Population'], critme_df_result['Crime_Rate']):\n",
    "    city = ''.join([i for i in c if not i.isdigit()])\n",
    "    location = geolocator.geocode(state + ' ' + city)\n",
    "    city_data = [p]\n",
    "    if (location):\n",
    "        print((city, location.latitude, location.longitude))\n",
    "        venues_count_list = count_venues(location.latitude, location.longitude, categories.values())\n",
    "        if len(venues_count_list) > 0:\n",
    "            city_data.extend(venues_count_list)\n",
    "            city_data.append(cr)\n",
    "            draft_data_list.append(city_data)\n",
    "    else:\n",
    "        print(city + ' cannot get location')"
   ]
  },
  {
   "cell_type": "code",
   "execution_count": 12,
   "metadata": {},
   "outputs": [
    {
     "data": {
      "text/plain": [
       "[[217259, 9, 0, 10, 1, 5, 4, 0, 5, 0, 1, 66, 1, 3, 105, 5189.66],\n",
       " [216350, 5, 0, 4, 3, 10, 6, 0, 5, 1, 4, 100, 1, 10, 149, 1592.79],\n",
       " [217277, 24, 3, 12, 1, 3, 3, 0, 10, 0, 2, 100, 5, 24, 187, 5102.7],\n",
       " [217066, 6, 0, 13, 3, 4, 1, 0, 9, 0, 1, 90, 2, 21, 150, 7881.009999999999]]"
      ]
     },
     "execution_count": 12,
     "metadata": {},
     "output_type": "execute_result"
    }
   ],
   "source": [
    "draft_data_list"
   ]
  },
  {
   "cell_type": "code",
   "execution_count": 13,
   "metadata": {},
   "outputs": [
    {
     "data": {
      "text/html": [
       "<div>\n",
       "<style scoped>\n",
       "    .dataframe tbody tr th:only-of-type {\n",
       "        vertical-align: middle;\n",
       "    }\n",
       "\n",
       "    .dataframe tbody tr th {\n",
       "        vertical-align: top;\n",
       "    }\n",
       "\n",
       "    .dataframe thead th {\n",
       "        text-align: right;\n",
       "    }\n",
       "</style>\n",
       "<table border=\"1\" class=\"dataframe\">\n",
       "  <thead>\n",
       "    <tr style=\"text-align: right;\">\n",
       "      <th></th>\n",
       "      <th>Population</th>\n",
       "      <th>baseball field</th>\n",
       "      <th>hockey field</th>\n",
       "      <th>basketball court</th>\n",
       "      <th>sport club</th>\n",
       "      <th>tennis court</th>\n",
       "      <th>athletics stadium</th>\n",
       "      <th>badminton court</th>\n",
       "      <th>football field</th>\n",
       "      <th>swimming school</th>\n",
       "      <th>volleyball court</th>\n",
       "      <th>gym / fitness</th>\n",
       "      <th>rink</th>\n",
       "      <th>ski tracking</th>\n",
       "      <th>total_sports</th>\n",
       "      <th>Crime_Rate</th>\n",
       "    </tr>\n",
       "  </thead>\n",
       "  <tbody>\n",
       "    <tr>\n",
       "      <th>0</th>\n",
       "      <td>217259</td>\n",
       "      <td>0.041425</td>\n",
       "      <td>0.000000</td>\n",
       "      <td>0.046028</td>\n",
       "      <td>0.004603</td>\n",
       "      <td>0.023014</td>\n",
       "      <td>0.018411</td>\n",
       "      <td>0.0</td>\n",
       "      <td>0.023014</td>\n",
       "      <td>0.000000</td>\n",
       "      <td>0.004603</td>\n",
       "      <td>0.303785</td>\n",
       "      <td>0.004603</td>\n",
       "      <td>0.013808</td>\n",
       "      <td>0.483294</td>\n",
       "      <td>5189.66</td>\n",
       "    </tr>\n",
       "    <tr>\n",
       "      <th>1</th>\n",
       "      <td>216350</td>\n",
       "      <td>0.023111</td>\n",
       "      <td>0.000000</td>\n",
       "      <td>0.018489</td>\n",
       "      <td>0.013866</td>\n",
       "      <td>0.046221</td>\n",
       "      <td>0.027733</td>\n",
       "      <td>0.0</td>\n",
       "      <td>0.023111</td>\n",
       "      <td>0.004622</td>\n",
       "      <td>0.018489</td>\n",
       "      <td>0.462214</td>\n",
       "      <td>0.004622</td>\n",
       "      <td>0.046221</td>\n",
       "      <td>0.688699</td>\n",
       "      <td>1592.79</td>\n",
       "    </tr>\n",
       "    <tr>\n",
       "      <th>2</th>\n",
       "      <td>217277</td>\n",
       "      <td>0.110458</td>\n",
       "      <td>0.013807</td>\n",
       "      <td>0.055229</td>\n",
       "      <td>0.004602</td>\n",
       "      <td>0.013807</td>\n",
       "      <td>0.013807</td>\n",
       "      <td>0.0</td>\n",
       "      <td>0.046024</td>\n",
       "      <td>0.000000</td>\n",
       "      <td>0.009205</td>\n",
       "      <td>0.460242</td>\n",
       "      <td>0.023012</td>\n",
       "      <td>0.110458</td>\n",
       "      <td>0.860653</td>\n",
       "      <td>5102.70</td>\n",
       "    </tr>\n",
       "    <tr>\n",
       "      <th>3</th>\n",
       "      <td>217066</td>\n",
       "      <td>0.027641</td>\n",
       "      <td>0.000000</td>\n",
       "      <td>0.059890</td>\n",
       "      <td>0.013821</td>\n",
       "      <td>0.018428</td>\n",
       "      <td>0.004607</td>\n",
       "      <td>0.0</td>\n",
       "      <td>0.041462</td>\n",
       "      <td>0.000000</td>\n",
       "      <td>0.004607</td>\n",
       "      <td>0.414620</td>\n",
       "      <td>0.009214</td>\n",
       "      <td>0.096745</td>\n",
       "      <td>0.691034</td>\n",
       "      <td>7881.01</td>\n",
       "    </tr>\n",
       "  </tbody>\n",
       "</table>\n",
       "</div>"
      ],
      "text/plain": [
       "   Population  baseball field  hockey field  basketball court  sport club  \\\n",
       "0      217259        0.041425      0.000000          0.046028    0.004603   \n",
       "1      216350        0.023111      0.000000          0.018489    0.013866   \n",
       "2      217277        0.110458      0.013807          0.055229    0.004602   \n",
       "3      217066        0.027641      0.000000          0.059890    0.013821   \n",
       "\n",
       "   tennis court  athletics stadium  badminton court  football field  \\\n",
       "0      0.023014           0.018411              0.0        0.023014   \n",
       "1      0.046221           0.027733              0.0        0.023111   \n",
       "2      0.013807           0.013807              0.0        0.046024   \n",
       "3      0.018428           0.004607              0.0        0.041462   \n",
       "\n",
       "   swimming school  volleyball court  gym / fitness      rink  ski tracking  \\\n",
       "0         0.000000          0.004603       0.303785  0.004603      0.013808   \n",
       "1         0.004622          0.018489       0.462214  0.004622      0.046221   \n",
       "2         0.000000          0.009205       0.460242  0.023012      0.110458   \n",
       "3         0.000000          0.004607       0.414620  0.009214      0.096745   \n",
       "\n",
       "   total_sports  Crime_Rate  \n",
       "0      0.483294     5189.66  \n",
       "1      0.688699     1592.79  \n",
       "2      0.860653     5102.70  \n",
       "3      0.691034     7881.01  "
      ]
     },
     "execution_count": 13,
     "metadata": {},
     "output_type": "execute_result"
    }
   ],
   "source": [
    "c = ['Population']\n",
    "c.extend(categories.keys())\n",
    "c.extend(['total_sports','Crime_Rate'])\n",
    "df_final = pd.DataFrame(draft_data_list, columns = c)\n",
    "df_final.iloc[:, 1:len(categories.keys()) + 2] = df_final.iloc[:, 1:len(categories.keys()) + 2].div(0.001 * df_final.Population, axis = 0)\n",
    "df_final.head()"
   ]
  },
  {
   "cell_type": "code",
   "execution_count": 17,
   "metadata": {},
   "outputs": [
    {
     "data": {
      "text/plain": [
       "<matplotlib.axes._subplots.AxesSubplot at 0x81a5a5e5f8>"
      ]
     },
     "execution_count": 17,
     "metadata": {},
     "output_type": "execute_result"
    },
    {
     "data": {
      "image/png": "[encoded data removed]",
      "text/plain": [
       "<Figure size 432x288 with 1 Axes>"
      ]
     },
     "metadata": {
      "needs_background": "light"
     },
     "output_type": "display_data"
    }
   ],
   "source": [
    "%matplotlib inline  \n",
    "df_final['Crime_Rate'].plot(kind = 'bar')"
   ]
  },
  {
   "cell_type": "code",
   "execution_count": 18,
   "metadata": {},
   "outputs": [
    {
     "data": {
      "text/plain": [
       "<matplotlib.axes._subplots.AxesSubplot at 0x81a5c97f98>"
      ]
     },
     "execution_count": 18,
     "metadata": {},
     "output_type": "execute_result"
    },
    {
     "data": {
      "image/png": "[encoded data removed]",
      "text/plain": [
       "<Figure size 432x288 with 1 Axes>"
      ]
     },
     "metadata": {
      "needs_background": "light"
     },
     "output_type": "display_data"
    }
   ],
   "source": [
    "df_final['Population'].plot(kind = 'bar')"
   ]
  },
  {
   "cell_type": "code",
   "execution_count": 19,
   "metadata": {},
   "outputs": [
    {
     "data": {
      "text/plain": [
       "<matplotlib.axes._subplots.AxesSubplot at 0x81a5ca4c88>"
      ]
     },
     "execution_count": 19,
     "metadata": {},
     "output_type": "execute_result"
    },
    {
     "data": {
      "image/png": "[encoded data removed]",
      "text/plain": [
       "<Figure size 432x288 with 1 Axes>"
      ]
     },
     "metadata": {
      "needs_background": "light"
     },
     "output_type": "display_data"
    }
   ],
   "source": [
    "df_final['total_sports'].plot(kind = 'bar')"
   ]
  },
  {
   "cell_type": "code",
   "execution_count": 23,
   "metadata": {},
   "outputs": [
    {
     "data": {
      "text/plain": [
       "<matplotlib.axes._subplots.AxesSubplot at 0x81a5d68e80>"
      ]
     },
     "execution_count": 23,
     "metadata": {},
     "output_type": "execute_result"
    },
    {
     "data": {
      "image/png": "[encoded data removed]",
      "text/plain": [
       "<Figure size 432x288 with 1 Axes>"
      ]
     },
     "metadata": {
      "needs_background": "light"
     },
     "output_type": "display_data"
    }
   ],
   "source": [
    "df_final['total_sports'].plot.box()"
   ]
  },
  {
   "cell_type": "code",
   "execution_count": 42,
   "metadata": {},
   "outputs": [
    {
     "data": {
      "text/plain": [
       "<matplotlib.axes._subplots.AxesSubplot at 0x81a857f048>"
      ]
     },
     "execution_count": 42,
     "metadata": {},
     "output_type": "execute_result"
    },
    {
     "data": {
      "image/png": "[encoded data removed]",
      "text/plain": [
       "<Figure size 864x720 with 1 Axes>"
      ]
     },
     "metadata": {
      "needs_background": "light"
     },
     "output_type": "display_data"
    }
   ],
   "source": [
    "color = {'boxes': 'DarkGreen', 'whiskers': 'DarkOrange', 'medians': 'DarkBlue', 'caps': 'Gray'}\n",
    "df_final.iloc[:, 1:-2].plot.box(color=color, sym='r+', vert=False, figsize=(12, 10))"
   ]
  },
  {
   "cell_type": "code",
   "execution_count": 44,
   "metadata": {},
   "outputs": [
    {
     "data": {
      "image/png": "[encoded data removed]",
      "text/plain": [
       "<Figure size 432x288 with 1 Axes>"
      ]
     },
     "metadata": {
      "needs_background": "light"
     },
     "output_type": "display_data"
    }
   ],
   "source": [
    "df_final.plot.scatter(x='ski tracking', y='Crime_Rate');"
   ]
  },
  {
   "cell_type": "code",
   "execution_count": null,
   "metadata": {},
   "outputs": [],
   "source": []
  }
 ],
 "metadata": {
  "kernelspec": {
   "display_name": "Python 3",
   "language": "python",
   "name": "python3"
  },
  "language_info": {
   "codemirror_mode": {
    "name": "ipython",
    "version": 3
   },
   "file_extension": ".py",
   "mimetype": "text/x-python",
   "name": "python",
   "nbconvert_exporter": "python",
   "pygments_lexer": "ipython3",
   "version": "3.5.0"
  }
 },
 "nbformat": 4,
 "nbformat_minor": 2
}
