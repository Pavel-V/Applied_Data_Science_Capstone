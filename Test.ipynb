{
 "cells": [
  {
   "cell_type": "markdown",
   "metadata": {},
   "source": [
    "## 1. Data preparation\n",
    "Import packages"
   ]
  },
  {
   "cell_type": "code",
   "execution_count": 4,
   "metadata": {},
   "outputs": [],
   "source": [
    "import folium\n",
    "from geopy.geocoders import Nominatim # convert an address into latitude and longitude values\n",
    "import urllib.request  as urllib2\n",
    "import pandas as pd\n",
    "import json\n",
    "import numpy as np\n",
    "import requests\n",
    "from pandas.io.json import json_normalize # tranform JSON file into a pandas dataframe\n",
    "import matplotlib.cm as cm\n",
    "import matplotlib.colors as colors\n",
    "from sklearn.cluster import KMeans\n",
    "import lxml\n",
    "import requests\n",
    "import seaborn as sns"
   ]
  },
  {
   "cell_type": "code",
   "execution_count": 14,
   "metadata": {},
   "outputs": [],
   "source": [
    "pd.set_option('display.max_columns', None)\n",
    "pd.set_option('display.max_rows', None)"
   ]
  },
  {
   "cell_type": "markdown",
   "metadata": {},
   "source": [
    "### 1.1. Read data about crime rate of cities"
   ]
  },
  {
   "cell_type": "code",
   "execution_count": 15,
   "metadata": {},
   "outputs": [
    {
     "data": {
      "text/html": [
       "<div>\n",
       "<style scoped>\n",
       "    .dataframe tbody tr th:only-of-type {\n",
       "        vertical-align: middle;\n",
       "    }\n",
       "\n",
       "    .dataframe tbody tr th {\n",
       "        vertical-align: top;\n",
       "    }\n",
       "\n",
       "    .dataframe thead th {\n",
       "        text-align: right;\n",
       "    }\n",
       "</style>\n",
       "<table border=\"1\" class=\"dataframe\">\n",
       "  <thead>\n",
       "    <tr style=\"text-align: right;\">\n",
       "      <th></th>\n",
       "      <th>State</th>\n",
       "      <th>City</th>\n",
       "      <th>Population</th>\n",
       "      <th>Total</th>\n",
       "      <th>Murder and Nonnegligent Manslaughter</th>\n",
       "      <th>Rape1</th>\n",
       "      <th>Robbery</th>\n",
       "      <th>Aggravated Assault</th>\n",
       "      <th>Total.1</th>\n",
       "      <th>Burglary</th>\n",
       "      <th>Larceny-Theft</th>\n",
       "      <th>Motor Vehicle Theft</th>\n",
       "      <th>Arson2</th>\n",
       "    </tr>\n",
       "  </thead>\n",
       "  <tbody>\n",
       "    <tr>\n",
       "      <th>0</th>\n",
       "      <td>Alabama</td>\n",
       "      <td>Mobile3</td>\n",
       "      <td>248431</td>\n",
       "      <td>740.25</td>\n",
       "      <td>20.13</td>\n",
       "      <td>57.16</td>\n",
       "      <td>177.11</td>\n",
       "      <td>485.85</td>\n",
       "      <td>5453.83</td>\n",
       "      <td>1216.84</td>\n",
       "      <td>3730.21</td>\n",
       "      <td>506.78</td>\n",
       "      <td>22.94</td>\n",
       "    </tr>\n",
       "    <tr>\n",
       "      <th>1</th>\n",
       "      <td>Alaska</td>\n",
       "      <td>Anchorage</td>\n",
       "      <td>296188</td>\n",
       "      <td>1203.29</td>\n",
       "      <td>9.12</td>\n",
       "      <td>132.01</td>\n",
       "      <td>262.67</td>\n",
       "      <td>799.49</td>\n",
       "      <td>5415.82</td>\n",
       "      <td>748.17</td>\n",
       "      <td>3619.66</td>\n",
       "      <td>1047.98</td>\n",
       "      <td>20.93</td>\n",
       "    </tr>\n",
       "    <tr>\n",
       "      <th>2</th>\n",
       "      <td>Arizona</td>\n",
       "      <td>Chandler</td>\n",
       "      <td>249355</td>\n",
       "      <td>259.47</td>\n",
       "      <td>2.01</td>\n",
       "      <td>52.13</td>\n",
       "      <td>56.95</td>\n",
       "      <td>148.38</td>\n",
       "      <td>2329.61</td>\n",
       "      <td>314.41</td>\n",
       "      <td>1866.01</td>\n",
       "      <td>149.18</td>\n",
       "      <td>NaN</td>\n",
       "    </tr>\n",
       "    <tr>\n",
       "      <th>3</th>\n",
       "      <td>Arizona</td>\n",
       "      <td>Gilbert</td>\n",
       "      <td>242090</td>\n",
       "      <td>85.51</td>\n",
       "      <td>2.07</td>\n",
       "      <td>16.11</td>\n",
       "      <td>21.07</td>\n",
       "      <td>46.26</td>\n",
       "      <td>1385.85</td>\n",
       "      <td>192.49</td>\n",
       "      <td>1137.59</td>\n",
       "      <td>55.76</td>\n",
       "      <td>12.39</td>\n",
       "    </tr>\n",
       "    <tr>\n",
       "      <th>4</th>\n",
       "      <td>Arizona</td>\n",
       "      <td>Glendale</td>\n",
       "      <td>249273</td>\n",
       "      <td>488.22</td>\n",
       "      <td>4.81</td>\n",
       "      <td>38.91</td>\n",
       "      <td>192.96</td>\n",
       "      <td>251.53</td>\n",
       "      <td>4530.37</td>\n",
       "      <td>637.45</td>\n",
       "      <td>3426.36</td>\n",
       "      <td>466.56</td>\n",
       "      <td>19.26</td>\n",
       "    </tr>\n",
       "  </tbody>\n",
       "</table>\n",
       "</div>"
      ],
      "text/plain": [
       "     State       City  Population    Total  \\\n",
       "0  Alabama    Mobile3      248431   740.25   \n",
       "1   Alaska  Anchorage      296188  1203.29   \n",
       "2  Arizona   Chandler      249355   259.47   \n",
       "3  Arizona    Gilbert      242090    85.51   \n",
       "4  Arizona   Glendale      249273   488.22   \n",
       "\n",
       "   Murder and Nonnegligent Manslaughter   Rape1  Robbery  Aggravated Assault  \\\n",
       "0                                 20.13   57.16   177.11              485.85   \n",
       "1                                  9.12  132.01   262.67              799.49   \n",
       "2                                  2.01   52.13    56.95              148.38   \n",
       "3                                  2.07   16.11    21.07               46.26   \n",
       "4                                  4.81   38.91   192.96              251.53   \n",
       "\n",
       "   Total.1  Burglary  Larceny-Theft  Motor Vehicle Theft  Arson2  \n",
       "0  5453.83   1216.84        3730.21               506.78   22.94  \n",
       "1  5415.82    748.17        3619.66              1047.98   20.93  \n",
       "2  2329.61    314.41        1866.01               149.18     NaN  \n",
       "3  1385.85    192.49        1137.59                55.76   12.39  \n",
       "4  4530.37    637.45        3426.36               466.56   19.26  "
      ]
     },
     "execution_count": 15,
     "metadata": {},
     "output_type": "execute_result"
    }
   ],
   "source": [
    "#Read the page\n",
    "url_wiki = \"https://en.wikipedia.org/wiki/List_of_United_States_cities_by_crime_rate\"\n",
    "critme_raw_df = pd.read_html(url_wiki, header=1)[0].copy()\n",
    "critme_raw_df.head()"
   ]
  },
  {
   "cell_type": "code",
   "execution_count": 16,
   "metadata": {},
   "outputs": [
    {
     "name": "stdout",
     "output_type": "stream",
     "text": [
      "State                                   100\n",
      "City                                    100\n",
      "Population                              100\n",
      "Total                                    96\n",
      "Murder and Nonnegligent Manslaughter    100\n",
      "Rape1                                    96\n",
      "Robbery                                 100\n",
      "Aggravated Assault                      100\n",
      "Total.1                                 100\n",
      "Burglary                                100\n",
      "Larceny-Theft                           100\n",
      "Motor Vehicle Theft                     100\n",
      "Arson2                                   92\n",
      "dtype: int64\n"
     ]
    }
   ],
   "source": [
    "print(critme_raw_df.count())"
   ]
  },
  {
   "cell_type": "markdown",
   "metadata": {},
   "source": [
    "#### Data cleaning\n",
    "We will consider cities with a population of less than 500 thousand"
   ]
  },
  {
   "cell_type": "code",
   "execution_count": 17,
   "metadata": {},
   "outputs": [
    {
     "name": "stdout",
     "output_type": "stream",
     "text": [
      "State         65\n",
      "City          65\n",
      "Population    65\n",
      "Total         62\n",
      "Total.1       65\n",
      "Arson2        61\n",
      "dtype: int64\n"
     ]
    },
    {
     "data": {
      "text/html": [
       "<div>\n",
       "<style scoped>\n",
       "    .dataframe tbody tr th:only-of-type {\n",
       "        vertical-align: middle;\n",
       "    }\n",
       "\n",
       "    .dataframe tbody tr th {\n",
       "        vertical-align: top;\n",
       "    }\n",
       "\n",
       "    .dataframe thead th {\n",
       "        text-align: right;\n",
       "    }\n",
       "</style>\n",
       "<table border=\"1\" class=\"dataframe\">\n",
       "  <thead>\n",
       "    <tr style=\"text-align: right;\">\n",
       "      <th></th>\n",
       "      <th>State</th>\n",
       "      <th>City</th>\n",
       "      <th>Population</th>\n",
       "      <th>Total</th>\n",
       "      <th>Total.1</th>\n",
       "      <th>Arson2</th>\n",
       "    </tr>\n",
       "  </thead>\n",
       "  <tbody>\n",
       "    <tr>\n",
       "      <th>0</th>\n",
       "      <td>Alabama</td>\n",
       "      <td>Mobile3</td>\n",
       "      <td>248431</td>\n",
       "      <td>740.25</td>\n",
       "      <td>5453.83</td>\n",
       "      <td>22.94</td>\n",
       "    </tr>\n",
       "    <tr>\n",
       "      <th>1</th>\n",
       "      <td>Alaska</td>\n",
       "      <td>Anchorage</td>\n",
       "      <td>296188</td>\n",
       "      <td>1203.29</td>\n",
       "      <td>5415.82</td>\n",
       "      <td>20.93</td>\n",
       "    </tr>\n",
       "    <tr>\n",
       "      <th>2</th>\n",
       "      <td>Arizona</td>\n",
       "      <td>Chandler</td>\n",
       "      <td>249355</td>\n",
       "      <td>259.47</td>\n",
       "      <td>2329.61</td>\n",
       "      <td>NaN</td>\n",
       "    </tr>\n",
       "    <tr>\n",
       "      <th>3</th>\n",
       "      <td>Arizona</td>\n",
       "      <td>Gilbert</td>\n",
       "      <td>242090</td>\n",
       "      <td>85.51</td>\n",
       "      <td>1385.85</td>\n",
       "      <td>12.39</td>\n",
       "    </tr>\n",
       "    <tr>\n",
       "      <th>4</th>\n",
       "      <td>Arizona</td>\n",
       "      <td>Glendale</td>\n",
       "      <td>249273</td>\n",
       "      <td>488.22</td>\n",
       "      <td>4530.37</td>\n",
       "      <td>19.26</td>\n",
       "    </tr>\n",
       "  </tbody>\n",
       "</table>\n",
       "</div>"
      ],
      "text/plain": [
       "     State       City  Population    Total  Total.1  Arson2\n",
       "0  Alabama    Mobile3      248431   740.25  5453.83   22.94\n",
       "1   Alaska  Anchorage      296188  1203.29  5415.82   20.93\n",
       "2  Arizona   Chandler      249355   259.47  2329.61     NaN\n",
       "3  Arizona    Gilbert      242090    85.51  1385.85   12.39\n",
       "4  Arizona   Glendale      249273   488.22  4530.37   19.26"
      ]
     },
     "execution_count": 17,
     "metadata": {},
     "output_type": "execute_result"
    }
   ],
   "source": [
    "critme_df = critme_raw_df\n",
    "critme_df = critme_df[critme_df.Population < 500000]\n",
    "critme_df = critme_df[['State', 'City', 'Population', 'Total', 'Total.1', 'Arson2']]\n",
    "print(critme_df.count())\n",
    "critme_df.head()"
   ]
  },
  {
   "cell_type": "markdown",
   "metadata": {},
   "source": [
    "Drop NaN"
   ]
  },
  {
   "cell_type": "code",
   "execution_count": 18,
   "metadata": {},
   "outputs": [
    {
     "data": {
      "text/html": [
       "<div>\n",
       "<style scoped>\n",
       "    .dataframe tbody tr th:only-of-type {\n",
       "        vertical-align: middle;\n",
       "    }\n",
       "\n",
       "    .dataframe tbody tr th {\n",
       "        vertical-align: top;\n",
       "    }\n",
       "\n",
       "    .dataframe thead th {\n",
       "        text-align: right;\n",
       "    }\n",
       "</style>\n",
       "<table border=\"1\" class=\"dataframe\">\n",
       "  <thead>\n",
       "    <tr style=\"text-align: right;\">\n",
       "      <th></th>\n",
       "      <th>State</th>\n",
       "      <th>City</th>\n",
       "      <th>Population</th>\n",
       "      <th>Total</th>\n",
       "      <th>Total.1</th>\n",
       "      <th>Arson2</th>\n",
       "    </tr>\n",
       "  </thead>\n",
       "  <tbody>\n",
       "    <tr>\n",
       "      <th>0</th>\n",
       "      <td>Alabama</td>\n",
       "      <td>Mobile3</td>\n",
       "      <td>248431</td>\n",
       "      <td>740.25</td>\n",
       "      <td>5453.83</td>\n",
       "      <td>22.94</td>\n",
       "    </tr>\n",
       "    <tr>\n",
       "      <th>1</th>\n",
       "      <td>Alaska</td>\n",
       "      <td>Anchorage</td>\n",
       "      <td>296188</td>\n",
       "      <td>1203.29</td>\n",
       "      <td>5415.82</td>\n",
       "      <td>20.93</td>\n",
       "    </tr>\n",
       "    <tr>\n",
       "      <th>3</th>\n",
       "      <td>Arizona</td>\n",
       "      <td>Gilbert</td>\n",
       "      <td>242090</td>\n",
       "      <td>85.51</td>\n",
       "      <td>1385.85</td>\n",
       "      <td>12.39</td>\n",
       "    </tr>\n",
       "    <tr>\n",
       "      <th>4</th>\n",
       "      <td>Arizona</td>\n",
       "      <td>Glendale</td>\n",
       "      <td>249273</td>\n",
       "      <td>488.22</td>\n",
       "      <td>4530.37</td>\n",
       "      <td>19.26</td>\n",
       "    </tr>\n",
       "    <tr>\n",
       "      <th>5</th>\n",
       "      <td>Arizona</td>\n",
       "      <td>Mesa</td>\n",
       "      <td>492268</td>\n",
       "      <td>415.83</td>\n",
       "      <td>2171.99</td>\n",
       "      <td>4.67</td>\n",
       "    </tr>\n",
       "  </tbody>\n",
       "</table>\n",
       "</div>"
      ],
      "text/plain": [
       "     State       City  Population    Total  Total.1  Arson2\n",
       "0  Alabama    Mobile3      248431   740.25  5453.83   22.94\n",
       "1   Alaska  Anchorage      296188  1203.29  5415.82   20.93\n",
       "3  Arizona    Gilbert      242090    85.51  1385.85   12.39\n",
       "4  Arizona   Glendale      249273   488.22  4530.37   19.26\n",
       "5  Arizona       Mesa      492268   415.83  2171.99    4.67"
      ]
     },
     "execution_count": 18,
     "metadata": {},
     "output_type": "execute_result"
    }
   ],
   "source": [
    "critme_df = critme_df.dropna()\n",
    "critme_df.head()"
   ]
  },
  {
   "cell_type": "markdown",
   "metadata": {},
   "source": [
    "Sum categories of crime"
   ]
  },
  {
   "cell_type": "code",
   "execution_count": 19,
   "metadata": {},
   "outputs": [
    {
     "name": "stdout",
     "output_type": "stream",
     "text": [
      "State         59\n",
      "City          59\n",
      "Population    59\n",
      "Crime_Rate    59\n",
      "dtype: int64\n"
     ]
    }
   ],
   "source": [
    "critme_df['Crime_Rate'] = critme_df['Total'] + critme_df['Total.1'] + critme_df['Arson2']\n",
    "critme_df_result = critme_df[['State', 'City', 'Population', 'Crime_Rate']]\n",
    "critme_df_result.head()\n",
    "print(critme_df_result.count())"
   ]
  },
  {
   "cell_type": "markdown",
   "metadata": {},
   "source": [
    "### 1.2 Create data abouf sport venues\n",
    "#### Set geolocator, parametes to Foursquare API"
   ]
  },
  {
   "cell_type": "code",
   "execution_count": 20,
   "metadata": {},
   "outputs": [],
   "source": [
    "geolocator = Nominatim(user_agent = 'test')\n",
    "CLIENT_ID = '1ROEGGL32JNNXXQVZ1XAQM1RN11GXZVG0OPQYTXUES1NZWKJ'\n",
    "CLIENT_SECRET = 'CV12M1JW2IX22BY2PDG1PPNPFBGRJIWIGOLYX5PFVXF4S1BE' \n",
    "VERSION = '20180604'\n",
    "LIMIT = 2000"
   ]
  },
  {
   "cell_type": "markdown",
   "metadata": {},
   "source": [
    "#### Count sport venues"
   ]
  },
  {
   "cell_type": "code",
   "execution_count": 21,
   "metadata": {},
   "outputs": [],
   "source": [
    "def count_venues(lat, lng, category_id_list, radius=10000):\n",
    "        \n",
    "    counter_list = []\n",
    "    \n",
    "    total_count = 0\n",
    "    \n",
    "    for category_id in category_id_list:\n",
    "        # create the API request URL\n",
    "        url = 'https://api.foursquare.com/v2/venues/explore?&client_id={}&client_secret={}&v={}&ll={},{}&radius={}&limit={}&categoryId={}'.format(\n",
    "            CLIENT_ID, \n",
    "            CLIENT_SECRET, \n",
    "            VERSION, \n",
    "            lat, \n",
    "            lng, \n",
    "            radius, \n",
    "            LIMIT,\n",
    "            category_id\n",
    "        )\n",
    "        \n",
    "        count = 0\n",
    "        # make the GET request\n",
    "        try:\n",
    "            result_get = requests.get(url).json()\n",
    "            count = len(result_get[\"response\"]['groups'][0]['items'])\n",
    "        except:\n",
    "            # retry one more time\n",
    "            try:\n",
    "                result_get = requests.get(url).json()\n",
    "                count = len(result_get[\"response\"]['groups'][0]['items'])\n",
    "            except:\n",
    "                print(result_get)\n",
    "                return []\n",
    "            \n",
    "        counter_list.append(count)\n",
    "        total_count += count\n",
    "    #print(counter_list)\n",
    "    \n",
    "    counter_list.append(total_count)\n",
    "    return counter_list"
   ]
  },
  {
   "cell_type": "markdown",
   "metadata": {},
   "source": [
    "#### Define categories of sport venues using Foursquare list of venue categories:\n",
    "https://developer.foursquare.com/docs/resources/categories"
   ]
  },
  {
   "cell_type": "code",
   "execution_count": 22,
   "metadata": {},
   "outputs": [],
   "source": [
    "categories = {'athletics stadium': '4bf58dd8d48988d187941735',\n",
    "              'badminton court': '52e81612bcbc57f1066b7a2b',\n",
    "              'baseball field': '4bf58dd8d48988d1e8941735',\n",
    "              'basketball court': '4bf58dd8d48988d1e1941735',\n",
    "              'football field': '4cce455aebf7b749d5e191f5',\n",
    "              'gym / fitness':  '4bf58dd8d48988d175941735',\n",
    "              'hockey field': '56aa371be4b08b9a8d57352c',\n",
    "              'rink': '4bf58dd8d48988d168941735',\n",
    "              'ski tracking': '4eb1c0f63b7b52c0e1adc2eb',\n",
    "              'sport club': '52e81612bcbc57f1066b7a2e',\n",
    "              'swimming school': '52e81612bcbc57f1066b7a44',\n",
    "              'tennis court': '4e39a956bd410d7aed40cbc3',\n",
    "              'volleyball court': '4eb1bf013b7b6f98df247e07'\n",
    "             }"
   ]
  },
  {
   "cell_type": "markdown",
   "metadata": {},
   "source": [
    "#### Get numbers of sport venues for each city"
   ]
  },
  {
   "cell_type": "code",
   "execution_count": 23,
   "metadata": {},
   "outputs": [
    {
     "name": "stdout",
     "output_type": "stream",
     "text": [
      "('Mobile', 30.6943566, -88.0430541)\n",
      "('Anchorage', 61.1758781, -149.1107333)\n",
      "('Gilbert', 33.3527632, -111.7890373)\n",
      "('Glendale', 33.558997, -112.404683063895)\n",
      "('Mesa', 33.4151117, -111.8314773)\n",
      "('Scottsdale', 33.5091215, -111.8992365)\n",
      "('Anaheim', 33.8347516, -117.911732)\n",
      "('Bakersfield', 35.3738712, -119.0194639)\n",
      "('Chula Vista', 32.6400541, -117.0841955)\n",
      "('Fremont', 37.5482697, -121.9885719)\n",
      "('Irvine', 33.6856969, -117.8259819)\n",
      "('Long Beach', 33.78538945, -118.158049315311)\n",
      "('Oakland', 37.8044557, -122.2713563)\n",
      "('Riverside', 33.9533546, -117.3961623)\n",
      "('Sacramento', 38.5815719, -121.4943996)\n",
      "('San Bernardino', 34.1083449, -117.2897652)\n",
      "('Santa Ana', 33.7494951, -117.8732213)\n",
      "('Santa Clarita', 34.3916641, -118.542586)\n",
      "('Stockton', 37.9577016, -121.2907796)\n",
      "('Aurora', 39.729432, -104.8319196)\n",
      "('Colorado Springs', 38.8339578, -104.8253485)\n",
      "('Hialeah', 25.8575963, -80.2781057)\n",
      "('Miami', 25.7742658, -80.1936589)\n",
      "('Orlando', 28.5421097, -81.3790388)\n",
      "('St. Petersburg', 27.7703796, -82.6695085)\n",
      "('Tampa', 27.9477595, -82.458444)\n",
      "('Atlanta', 33.7490987, -84.3901849)\n",
      "('Savannah-Chatham Metropolitan', 32.08439005, -81.111356562815)\n",
      "('Boise', 43.61656, -116.200835)\n",
      "('Fort Wayne', 41.0799898, -85.1386015)\n",
      "('Des Moines', 41.5910641, -93.6037149)\n",
      "('Wichita', 37.6922361, -97.3375448)\n",
      "('Lexington', 38.0464066, -84.4970393)\n",
      "('Baton Rouge', 30.4459596, -91.18738)\n",
      "('New Orleans', 29.9499323, -90.0701156)\n",
      "('Minneapolis', 44.9772995, -93.2654692)\n",
      "('St. Paul', 44.9504037, -93.1015026)\n",
      "('Kansas City', 39.100105, -94.5781416)\n",
      "('St. Louis', 38.6268039, -90.1994097)\n",
      "('Henderson', 36.0391456, -114.9819235)\n",
      "('North Las Vegas', 36.2008371, -115.1120958)\n",
      "('Reno', 39.52927, -119.8136744)\n",
      "('Jersey City', 40.7281575, -74.0776417)\n",
      "('Newark', 40.735657, -74.1723667)\n",
      "('Buffalo', 42.8867166, -78.8783922)\n",
      "('Cleveland', 41.5051613, -81.6934446)\n",
      "('Tulsa', 36.1556805, -95.9929113)\n",
      "('Pittsburgh', 40.4416941, -79.9900861)\n",
      "('Arlington', 32.701939, -97.105624826688)\n",
      "('Corpus Christi', 27.8002542, -97.3955744)\n",
      "('Garland', 32.912624, -96.6388833)\n",
      "('Irving', 32.8295183, -96.9442177)\n",
      "('Laredo', 27.5199841, -99.4953764)\n",
      "('Plano', 33.0136764, -96.6925096)\n",
      "('Chesapeake', 36.7183708, -76.2466798)\n",
      "('Norfolk', 36.8462923, -76.2929252)\n",
      "('Virginia Beach', 36.8529841, -75.9774183)\n",
      "('Spokane', 47.6579425, -117.4212265)\n",
      "('Madison', 43.074761, -89.3837613)\n"
     ]
    }
   ],
   "source": [
    "draft_data_list = []\n",
    "for state, c, p, cr in zip(critme_df_result['State'], critme_df_result['City'], critme_df_result['Population'], critme_df_result['Crime_Rate']):\n",
    "    city = ''.join([i for i in c if not i.isdigit()])\n",
    "    location = geolocator.geocode(state + ' ' + city)\n",
    "    city_data = [p]\n",
    "    if (location):\n",
    "        print((city, location.latitude, location.longitude))\n",
    "        venues_count_list = count_venues(location.latitude, location.longitude, categories.values())\n",
    "        if len(venues_count_list) > 0:\n",
    "            city_data.extend(venues_count_list)\n",
    "            city_data.append(cr)\n",
    "            draft_data_list.append(city_data)\n",
    "    else:\n",
    "        print(city + ' cannot get location')"
   ]
  },
  {
   "cell_type": "code",
   "execution_count": 24,
   "metadata": {},
   "outputs": [
    {
     "data": {
      "text/plain": [
       "59"
      ]
     },
     "execution_count": 24,
     "metadata": {},
     "output_type": "execute_result"
    }
   ],
   "source": [
    "len(draft_data_list)"
   ]
  },
  {
   "cell_type": "markdown",
   "metadata": {},
   "source": [
    "## 2  Exploratory Data Analysis"
   ]
  },
  {
   "cell_type": "markdown",
   "metadata": {},
   "source": [
    "For an impartial analysis, we do not further use the names of cities"
   ]
  },
  {
   "cell_type": "code",
   "execution_count": 25,
   "metadata": {},
   "outputs": [
    {
     "data": {
      "text/html": [
       "<div>\n",
       "<style scoped>\n",
       "    .dataframe tbody tr th:only-of-type {\n",
       "        vertical-align: middle;\n",
       "    }\n",
       "\n",
       "    .dataframe tbody tr th {\n",
       "        vertical-align: top;\n",
       "    }\n",
       "\n",
       "    .dataframe thead th {\n",
       "        text-align: right;\n",
       "    }\n",
       "</style>\n",
       "<table border=\"1\" class=\"dataframe\">\n",
       "  <thead>\n",
       "    <tr style=\"text-align: right;\">\n",
       "      <th></th>\n",
       "      <th>Population</th>\n",
       "      <th>rink</th>\n",
       "      <th>sport club</th>\n",
       "      <th>football field</th>\n",
       "      <th>athletics stadium</th>\n",
       "      <th>gym / fitness</th>\n",
       "      <th>volleyball court</th>\n",
       "      <th>badminton court</th>\n",
       "      <th>swimming school</th>\n",
       "      <th>hockey field</th>\n",
       "      <th>baseball field</th>\n",
       "      <th>tennis court</th>\n",
       "      <th>ski tracking</th>\n",
       "      <th>basketball court</th>\n",
       "      <th>total_sports</th>\n",
       "      <th>Crime_Rate</th>\n",
       "    </tr>\n",
       "  </thead>\n",
       "  <tbody>\n",
       "    <tr>\n",
       "      <th>0</th>\n",
       "      <td>248431</td>\n",
       "      <td>0.000000</td>\n",
       "      <td>0.008051</td>\n",
       "      <td>0.016101</td>\n",
       "      <td>0.000000</td>\n",
       "      <td>0.120758</td>\n",
       "      <td>0.000000</td>\n",
       "      <td>0.0</td>\n",
       "      <td>0.000000</td>\n",
       "      <td>0.000000</td>\n",
       "      <td>0.016101</td>\n",
       "      <td>0.004025</td>\n",
       "      <td>0.004025</td>\n",
       "      <td>0.008051</td>\n",
       "      <td>0.177112</td>\n",
       "      <td>6217.02</td>\n",
       "    </tr>\n",
       "    <tr>\n",
       "      <th>1</th>\n",
       "      <td>296188</td>\n",
       "      <td>0.000000</td>\n",
       "      <td>0.000000</td>\n",
       "      <td>0.000000</td>\n",
       "      <td>0.000000</td>\n",
       "      <td>0.000000</td>\n",
       "      <td>0.000000</td>\n",
       "      <td>0.0</td>\n",
       "      <td>0.000000</td>\n",
       "      <td>0.000000</td>\n",
       "      <td>0.000000</td>\n",
       "      <td>0.000000</td>\n",
       "      <td>0.000000</td>\n",
       "      <td>0.000000</td>\n",
       "      <td>0.000000</td>\n",
       "      <td>6640.04</td>\n",
       "    </tr>\n",
       "    <tr>\n",
       "      <th>2</th>\n",
       "      <td>242090</td>\n",
       "      <td>0.020653</td>\n",
       "      <td>0.012392</td>\n",
       "      <td>0.004131</td>\n",
       "      <td>0.037176</td>\n",
       "      <td>0.413070</td>\n",
       "      <td>0.012392</td>\n",
       "      <td>0.0</td>\n",
       "      <td>0.028915</td>\n",
       "      <td>0.000000</td>\n",
       "      <td>0.095006</td>\n",
       "      <td>0.037176</td>\n",
       "      <td>0.057830</td>\n",
       "      <td>0.070222</td>\n",
       "      <td>0.788963</td>\n",
       "      <td>1483.75</td>\n",
       "    </tr>\n",
       "    <tr>\n",
       "      <th>3</th>\n",
       "      <td>249273</td>\n",
       "      <td>0.000000</td>\n",
       "      <td>0.008023</td>\n",
       "      <td>0.016047</td>\n",
       "      <td>0.016047</td>\n",
       "      <td>0.148432</td>\n",
       "      <td>0.004012</td>\n",
       "      <td>0.0</td>\n",
       "      <td>0.004012</td>\n",
       "      <td>0.000000</td>\n",
       "      <td>0.076222</td>\n",
       "      <td>0.020058</td>\n",
       "      <td>0.016047</td>\n",
       "      <td>0.024070</td>\n",
       "      <td>0.332968</td>\n",
       "      <td>5037.85</td>\n",
       "    </tr>\n",
       "    <tr>\n",
       "      <th>4</th>\n",
       "      <td>492268</td>\n",
       "      <td>0.004063</td>\n",
       "      <td>0.008126</td>\n",
       "      <td>0.012188</td>\n",
       "      <td>0.020314</td>\n",
       "      <td>0.203141</td>\n",
       "      <td>0.020314</td>\n",
       "      <td>0.0</td>\n",
       "      <td>0.006094</td>\n",
       "      <td>0.004063</td>\n",
       "      <td>0.069068</td>\n",
       "      <td>0.022346</td>\n",
       "      <td>0.028440</td>\n",
       "      <td>0.048754</td>\n",
       "      <td>0.446911</td>\n",
       "      <td>2592.49</td>\n",
       "    </tr>\n",
       "  </tbody>\n",
       "</table>\n",
       "</div>"
      ],
      "text/plain": [
       "   Population      rink  sport club  football field  athletics stadium  \\\n",
       "0      248431  0.000000    0.008051        0.016101           0.000000   \n",
       "1      296188  0.000000    0.000000        0.000000           0.000000   \n",
       "2      242090  0.020653    0.012392        0.004131           0.037176   \n",
       "3      249273  0.000000    0.008023        0.016047           0.016047   \n",
       "4      492268  0.004063    0.008126        0.012188           0.020314   \n",
       "\n",
       "   gym / fitness  volleyball court  badminton court  swimming school  \\\n",
       "0       0.120758          0.000000              0.0         0.000000   \n",
       "1       0.000000          0.000000              0.0         0.000000   \n",
       "2       0.413070          0.012392              0.0         0.028915   \n",
       "3       0.148432          0.004012              0.0         0.004012   \n",
       "4       0.203141          0.020314              0.0         0.006094   \n",
       "\n",
       "   hockey field  baseball field  tennis court  ski tracking  basketball court  \\\n",
       "0      0.000000        0.016101      0.004025      0.004025          0.008051   \n",
       "1      0.000000        0.000000      0.000000      0.000000          0.000000   \n",
       "2      0.000000        0.095006      0.037176      0.057830          0.070222   \n",
       "3      0.000000        0.076222      0.020058      0.016047          0.024070   \n",
       "4      0.004063        0.069068      0.022346      0.028440          0.048754   \n",
       "\n",
       "   total_sports  Crime_Rate  \n",
       "0      0.177112     6217.02  \n",
       "1      0.000000     6640.04  \n",
       "2      0.788963     1483.75  \n",
       "3      0.332968     5037.85  \n",
       "4      0.446911     2592.49  "
      ]
     },
     "execution_count": 25,
     "metadata": {},
     "output_type": "execute_result"
    }
   ],
   "source": [
    "c = ['Population']\n",
    "c.extend(categories.keys())\n",
    "c.extend(['total_sports','Crime_Rate'])\n",
    "df_final = pd.DataFrame(draft_data_list, columns = c)\n",
    "df_final.iloc[:, 1:len(categories.keys()) + 2] = df_final.iloc[:, 1:len(categories.keys()) + 2].div(0.001 * df_final.Population, axis = 0)\n",
    "df_final.head()"
   ]
  },
  {
   "cell_type": "code",
   "execution_count": 26,
   "metadata": {},
   "outputs": [],
   "source": [
    "df_final.to_csv('backup.csv')"
   ]
  },
  {
   "cell_type": "markdown",
   "metadata": {},
   "source": [
    "### 2.1. Visualization"
   ]
  },
  {
   "cell_type": "code",
   "execution_count": 550,
   "metadata": {},
   "outputs": [
    {
     "data": {
      "text/plain": [
       "<matplotlib.axes._subplots.AxesSubplot at 0xe0bf81b1d0>"
      ]
     },
     "execution_count": 550,
     "metadata": {},
     "output_type": "execute_result"
    },
    {
     "data": {
      "image/png": "[encoded data removed]",
      "text/plain": [
       "<Figure size 1080x720 with 1 Axes>"
      ]
     },
     "metadata": {
      "needs_background": "light"
     },
     "output_type": "display_data"
    }
   ],
   "source": [
    "%matplotlib inline  \n",
    "df_final['Crime_Rate'].sort_values().plot(kind = 'bar', figsize=(15, 10))"
   ]
  },
  {
   "cell_type": "code",
   "execution_count": 28,
   "metadata": {},
   "outputs": [
    {
     "data": {
      "text/plain": [
       "<matplotlib.axes._subplots.AxesSubplot at 0xe0b5f2b470>"
      ]
     },
     "execution_count": 28,
     "metadata": {},
     "output_type": "execute_result"
    },
    {
     "data": {
      "image/png": "[encoded data removed]",
      "text/plain": [
       "<Figure size 1080x720 with 1 Axes>"
      ]
     },
     "metadata": {
      "needs_background": "light"
     },
     "output_type": "display_data"
    }
   ],
   "source": [
    "df_final['Population'].sort_values().plot(kind = 'bar', figsize=(15, 10))"
   ]
  },
  {
   "cell_type": "code",
   "execution_count": 552,
   "metadata": {},
   "outputs": [
    {
     "data": {
      "text/plain": [
       "<matplotlib.axes._subplots.AxesSubplot at 0xe0bf9775c0>"
      ]
     },
     "execution_count": 552,
     "metadata": {},
     "output_type": "execute_result"
    },
    {
     "data": {
      "image/png": "[encoded data removed]",
      "text/plain": [
       "<Figure size 1080x720 with 1 Axes>"
      ]
     },
     "metadata": {
      "needs_background": "light"
     },
     "output_type": "display_data"
    }
   ],
   "source": [
    "df_final['total_sports'].sort_values().plot(kind = 'bar', figsize=(15, 10))"
   ]
  },
  {
   "cell_type": "code",
   "execution_count": 553,
   "metadata": {},
   "outputs": [
    {
     "data": {
      "text/plain": [
       "<matplotlib.axes._subplots.AxesSubplot at 0xe0bf5cffd0>"
      ]
     },
     "execution_count": 553,
     "metadata": {},
     "output_type": "execute_result"
    },
    {
     "data": {
      "image/png": "[encoded data removed]",
      "text/plain": [
       "<Figure size 432x288 with 1 Axes>"
      ]
     },
     "metadata": {
      "needs_background": "light"
     },
     "output_type": "display_data"
    }
   ],
   "source": [
    "df_final['total_sports'].plot.box()"
   ]
  },
  {
   "cell_type": "markdown",
   "metadata": {},
   "source": [
    "Remove outliers "
   ]
  },
  {
   "cell_type": "code",
   "execution_count": 32,
   "metadata": {},
   "outputs": [],
   "source": [
    "df_final = df_final[df_final.total_sports > 0][df_final.total_sports < 2.]"
   ]
  },
  {
   "cell_type": "code",
   "execution_count": 33,
   "metadata": {},
   "outputs": [
    {
     "data": {
      "text/plain": [
       "<matplotlib.axes._subplots.AxesSubplot at 0xe0ba53d6a0>"
      ]
     },
     "execution_count": 33,
     "metadata": {},
     "output_type": "execute_result"
    },
    {
     "data": {
      "image/png": "[encoded data removed]",
      "text/plain": [
       "<Figure size 432x288 with 1 Axes>"
      ]
     },
     "metadata": {
      "needs_background": "light"
     },
     "output_type": "display_data"
    }
   ],
   "source": [
    "df_final['total_sports'].plot.box()"
   ]
  },
  {
   "cell_type": "code",
   "execution_count": 34,
   "metadata": {},
   "outputs": [
    {
     "data": {
      "text/plain": [
       "<matplotlib.axes._subplots.AxesSubplot at 0xe0ba5806a0>"
      ]
     },
     "execution_count": 34,
     "metadata": {},
     "output_type": "execute_result"
    },
    {
     "data": {
      "image/png": "[encoded data removed]",
      "text/plain": [
       "<Figure size 864x720 with 1 Axes>"
      ]
     },
     "metadata": {
      "needs_background": "light"
     },
     "output_type": "display_data"
    }
   ],
   "source": [
    "color = {'boxes': 'DarkGreen', 'whiskers': 'DarkOrange', 'medians': 'DarkBlue', 'caps': 'Gray'}\n",
    "df_final.iloc[:, 1:-2].plot.box(color=color, sym='r+', vert=False, figsize=(12, 10))"
   ]
  },
  {
   "cell_type": "code",
   "execution_count": 36,
   "metadata": {},
   "outputs": [
    {
     "data": {
      "image/png": "[encoded data removed]",
      "text/plain": [
       "<Figure size 720x720 with 3 Axes>"
      ]
     },
     "metadata": {
      "needs_background": "light"
     },
     "output_type": "display_data"
    }
   ],
   "source": [
    "g = sns.jointplot(\"Population\", \"Crime_Rate\", data=df_final, kind=\"reg\", color=\"g\", height=10)"
   ]
  },
  {
   "cell_type": "code",
   "execution_count": 39,
   "metadata": {},
   "outputs": [
    {
     "data": {
      "image/png": "[encoded data removed]",
      "text/plain": [
       "<Figure size 720x720 with 3 Axes>"
      ]
     },
     "metadata": {
      "needs_background": "light"
     },
     "output_type": "display_data"
    }
   ],
   "source": [
    "g = sns.jointplot(\"total_sports\", \"Crime_Rate\", data=df_final, kind=\"reg\", color=\"g\", height=10)"
   ]
  },
  {
   "cell_type": "code",
   "execution_count": 554,
   "metadata": {},
   "outputs": [
    {
     "data": {
      "image/png": "[encoded data removed]",
      "text/plain": [
       "<Figure size 720x720 with 3 Axes>"
      ]
     },
     "metadata": {
      "needs_background": "light"
     },
     "output_type": "display_data"
    }
   ],
   "source": [
    "g = sns.jointplot(\"swimming school\", \"Crime_Rate\", data=df_final, kind=\"reg\", color=\"g\", height=10)"
   ]
  },
  {
   "cell_type": "markdown",
   "metadata": {},
   "source": [
    "### 2.2. Estimate correlations"
   ]
  },
  {
   "cell_type": "code",
   "execution_count": 199,
   "metadata": {},
   "outputs": [
    {
     "name": "stdout",
     "output_type": "stream",
     "text": [
      "0.17884433156406535\tPopulation\n",
      "-0.4727248010641882\tswimming school\n",
      "-0.2768986551848762\tgym / fitness\n",
      "-0.1623755588652234\tfootball field\n",
      "0.1385836531374314\trink\n",
      "-0.11812982608368125\tbaseball field\n",
      "0.13001250333241174\thockey field\n",
      "0.008805085687263623\tbadminton court\n",
      "-0.06429501109392004\tski tracking\n",
      "-0.1407436473070518\ttennis court\n",
      "-0.18127146471595204\tathletics stadium\n",
      "-0.25762266416170165\tvolleyball court\n",
      "-0.20199732344417462\tbasketball court\n",
      "-0.1771783440800345\tsport club\n",
      "-0.2584236725563569\ttotal_sports\n"
     ]
    }
   ],
   "source": [
    "X = df_final.iloc[:, 0:len(categories.keys()) + 2].values\n",
    "for i in range(0, X.shape[1]):\n",
    "    corr = np.corrcoef(X.T[i], df_final['Crime_Rate'].values)[1][0]\n",
    "    print(str(corr)  + '\\t' + df_final.columns[i])"
   ]
  },
  {
   "cell_type": "markdown",
   "metadata": {},
   "source": [
    "## 3. Classification model\n",
    "\n",
    "Analysis shows that there are correlations between numbers of sports venues and crime rate. However, the correlation is not strong, in addition, we have a little dataset. So we will create classification model instead regression.\n",
    "\n",
    "We try to predict whether the crime rate of a city is higher than the average for the dataset using population and numbers of sports venues. "
   ]
  },
  {
   "cell_type": "code",
   "execution_count": 312,
   "metadata": {},
   "outputs": [],
   "source": [
    "from sklearn import preprocessing\n",
    "from sklearn import metrics\n",
    "from sklearn.model_selection import train_test_split\n",
    "from sklearn import svm \n",
    "from sklearn.neighbors import KNeighborsClassifier\n",
    "from sklearn.neural_network import MLPClassifier\n",
    "from sklearn.linear_model import LogisticRegression\n",
    "from sklearn.tree import DecisionTreeClassifier"
   ]
  },
  {
   "cell_type": "markdown",
   "metadata": {},
   "source": [
    "### 3.1. Get features (X) and target (y)"
   ]
  },
  {
   "cell_type": "code",
   "execution_count": 293,
   "metadata": {},
   "outputs": [
    {
     "data": {
      "text/html": [
       "<div>\n",
       "<style scoped>\n",
       "    .dataframe tbody tr th:only-of-type {\n",
       "        vertical-align: middle;\n",
       "    }\n",
       "\n",
       "    .dataframe tbody tr th {\n",
       "        vertical-align: top;\n",
       "    }\n",
       "\n",
       "    .dataframe thead th {\n",
       "        text-align: right;\n",
       "    }\n",
       "</style>\n",
       "<table border=\"1\" class=\"dataframe\">\n",
       "  <thead>\n",
       "    <tr style=\"text-align: right;\">\n",
       "      <th></th>\n",
       "      <th>Population</th>\n",
       "      <th>rink</th>\n",
       "      <th>sport club</th>\n",
       "      <th>football field</th>\n",
       "      <th>athletics stadium</th>\n",
       "      <th>gym / fitness</th>\n",
       "      <th>volleyball court</th>\n",
       "      <th>badminton court</th>\n",
       "      <th>swimming school</th>\n",
       "      <th>hockey field</th>\n",
       "      <th>baseball field</th>\n",
       "      <th>tennis court</th>\n",
       "      <th>ski tracking</th>\n",
       "      <th>basketball court</th>\n",
       "      <th>total_sports</th>\n",
       "    </tr>\n",
       "  </thead>\n",
       "  <tbody>\n",
       "    <tr>\n",
       "      <th>0</th>\n",
       "      <td>248431</td>\n",
       "      <td>0.000000</td>\n",
       "      <td>0.008051</td>\n",
       "      <td>0.016101</td>\n",
       "      <td>0.000000</td>\n",
       "      <td>0.120758</td>\n",
       "      <td>0.000000</td>\n",
       "      <td>0.0</td>\n",
       "      <td>0.000000</td>\n",
       "      <td>0.000000</td>\n",
       "      <td>0.016101</td>\n",
       "      <td>0.004025</td>\n",
       "      <td>0.004025</td>\n",
       "      <td>0.008051</td>\n",
       "      <td>0.177112</td>\n",
       "    </tr>\n",
       "    <tr>\n",
       "      <th>2</th>\n",
       "      <td>242090</td>\n",
       "      <td>0.020653</td>\n",
       "      <td>0.012392</td>\n",
       "      <td>0.004131</td>\n",
       "      <td>0.037176</td>\n",
       "      <td>0.413070</td>\n",
       "      <td>0.012392</td>\n",
       "      <td>0.0</td>\n",
       "      <td>0.028915</td>\n",
       "      <td>0.000000</td>\n",
       "      <td>0.095006</td>\n",
       "      <td>0.037176</td>\n",
       "      <td>0.057830</td>\n",
       "      <td>0.070222</td>\n",
       "      <td>0.788963</td>\n",
       "    </tr>\n",
       "    <tr>\n",
       "      <th>3</th>\n",
       "      <td>249273</td>\n",
       "      <td>0.000000</td>\n",
       "      <td>0.008023</td>\n",
       "      <td>0.016047</td>\n",
       "      <td>0.016047</td>\n",
       "      <td>0.148432</td>\n",
       "      <td>0.004012</td>\n",
       "      <td>0.0</td>\n",
       "      <td>0.004012</td>\n",
       "      <td>0.000000</td>\n",
       "      <td>0.076222</td>\n",
       "      <td>0.020058</td>\n",
       "      <td>0.016047</td>\n",
       "      <td>0.024070</td>\n",
       "      <td>0.332968</td>\n",
       "    </tr>\n",
       "    <tr>\n",
       "      <th>4</th>\n",
       "      <td>492268</td>\n",
       "      <td>0.004063</td>\n",
       "      <td>0.008126</td>\n",
       "      <td>0.012188</td>\n",
       "      <td>0.020314</td>\n",
       "      <td>0.203141</td>\n",
       "      <td>0.020314</td>\n",
       "      <td>0.0</td>\n",
       "      <td>0.006094</td>\n",
       "      <td>0.004063</td>\n",
       "      <td>0.069068</td>\n",
       "      <td>0.022346</td>\n",
       "      <td>0.028440</td>\n",
       "      <td>0.048754</td>\n",
       "      <td>0.446911</td>\n",
       "    </tr>\n",
       "    <tr>\n",
       "      <th>5</th>\n",
       "      <td>251840</td>\n",
       "      <td>0.003971</td>\n",
       "      <td>0.023825</td>\n",
       "      <td>0.015883</td>\n",
       "      <td>0.031766</td>\n",
       "      <td>0.397078</td>\n",
       "      <td>0.023825</td>\n",
       "      <td>0.0</td>\n",
       "      <td>0.007942</td>\n",
       "      <td>0.007942</td>\n",
       "      <td>0.162802</td>\n",
       "      <td>0.051620</td>\n",
       "      <td>0.138977</td>\n",
       "      <td>0.035737</td>\n",
       "      <td>0.901366</td>\n",
       "    </tr>\n",
       "  </tbody>\n",
       "</table>\n",
       "</div>"
      ],
      "text/plain": [
       "   Population      rink  sport club  football field  athletics stadium  \\\n",
       "0      248431  0.000000    0.008051        0.016101           0.000000   \n",
       "2      242090  0.020653    0.012392        0.004131           0.037176   \n",
       "3      249273  0.000000    0.008023        0.016047           0.016047   \n",
       "4      492268  0.004063    0.008126        0.012188           0.020314   \n",
       "5      251840  0.003971    0.023825        0.015883           0.031766   \n",
       "\n",
       "   gym / fitness  volleyball court  badminton court  swimming school  \\\n",
       "0       0.120758          0.000000              0.0         0.000000   \n",
       "2       0.413070          0.012392              0.0         0.028915   \n",
       "3       0.148432          0.004012              0.0         0.004012   \n",
       "4       0.203141          0.020314              0.0         0.006094   \n",
       "5       0.397078          0.023825              0.0         0.007942   \n",
       "\n",
       "   hockey field  baseball field  tennis court  ski tracking  basketball court  \\\n",
       "0      0.000000        0.016101      0.004025      0.004025          0.008051   \n",
       "2      0.000000        0.095006      0.037176      0.057830          0.070222   \n",
       "3      0.000000        0.076222      0.020058      0.016047          0.024070   \n",
       "4      0.004063        0.069068      0.022346      0.028440          0.048754   \n",
       "5      0.007942        0.162802      0.051620      0.138977          0.035737   \n",
       "\n",
       "   total_sports  \n",
       "0      0.177112  \n",
       "2      0.788963  \n",
       "3      0.332968  \n",
       "4      0.446911  \n",
       "5      0.901366  "
      ]
     },
     "execution_count": 293,
     "metadata": {},
     "output_type": "execute_result"
    }
   ],
   "source": [
    "X = df_final.iloc[:, 0:len(categories.keys()) + 2]\n",
    "X.head()"
   ]
  },
  {
   "cell_type": "code",
   "execution_count": 319,
   "metadata": {},
   "outputs": [],
   "source": [
    "y = df_final['Crime_Rate'].values\n",
    "median_y = np.median(y)\n",
    "y = np.where(y > median_y, 1, 0)"
   ]
  },
  {
   "cell_type": "markdown",
   "metadata": {},
   "source": [
    "### 3.2. Split test / train"
   ]
  },
  {
   "cell_type": "code",
   "execution_count": 345,
   "metadata": {},
   "outputs": [
    {
     "name": "stdout",
     "output_type": "stream",
     "text": [
      "Train set: (34, 15) (34,)\n",
      "Test set: (23, 15) (23,)\n"
     ]
    }
   ],
   "source": [
    "X_train, X_test, y_train, y_test = train_test_split(X, y, test_size = 0.4, random_state = 12345)\n",
    "print ('Train set:', X_train.shape,  y_train.shape)\n",
    "print ('Test set:', X_test.shape,  y_test.shape)\n",
    "\n",
    "X_train = preprocessing.StandardScaler().fit(X_train).transform(X_train)\n",
    "X_test = preprocessing.StandardScaler().fit(X_train).transform(X_test)\n",
    "\n",
    "y_train = y_train\n",
    "y_test = y_test"
   ]
  },
  {
   "cell_type": "markdown",
   "metadata": {},
   "source": [
    "### 3.3. kNN"
   ]
  },
  {
   "cell_type": "code",
   "execution_count": 346,
   "metadata": {},
   "outputs": [],
   "source": [
    "knn_model = KNeighborsClassifier(n_neighbors = 4).fit(X_train,y_train)"
   ]
  },
  {
   "cell_type": "code",
   "execution_count": 347,
   "metadata": {},
   "outputs": [
    {
     "name": "stdout",
     "output_type": "stream",
     "text": [
      "kNN accuracy_score =  0.5652173913043478\n",
      "kNN precision_score =  0.5833333333333334\n",
      "kNN recall_score =  0.5833333333333334\n",
      "kNN f1_score =  0.5833333333333334\n"
     ]
    }
   ],
   "source": [
    "print(\"kNN accuracy_score = \"  , metrics.accuracy_score(y_test, knn_model.predict(X_test)))\n",
    "print(\"kNN precision_score = \" , metrics.precision_score(y_test, knn_model.predict(X_test)))\n",
    "print(\"kNN recall_score = \"    , metrics.recall_score(y_test, knn_model.predict(X_test)))\n",
    "print(\"kNN f1_score = \"        , metrics.f1_score(y_test, knn_model.predict(X_test)))"
   ]
  },
  {
   "cell_type": "markdown",
   "metadata": {},
   "source": [
    "### 3.4. SVM"
   ]
  },
  {
   "cell_type": "code",
   "execution_count": 522,
   "metadata": {},
   "outputs": [],
   "source": [
    "svm_model = svm.SVC(kernel = 'rbf', degree = 3, probability=True).fit(X_train,y_train)"
   ]
  },
  {
   "cell_type": "code",
   "execution_count": 523,
   "metadata": {},
   "outputs": [
    {
     "name": "stdout",
     "output_type": "stream",
     "text": [
      "SVM accuracy_score =  0.6521739130434783\n",
      "SVM precision_score =  0.6666666666666666\n",
      "SVM recall_score =  0.6666666666666666\n",
      "SVM f1_score =  0.6666666666666666\n"
     ]
    }
   ],
   "source": [
    "print(\"SVM accuracy_score = \"  , metrics.accuracy_score(y_test, svm_model.predict(X_test)))\n",
    "print(\"SVM precision_score = \" , metrics.precision_score(y_test, svm_model.predict(X_test)))\n",
    "print(\"SVM recall_score = \"    , metrics.recall_score(y_test, svm_model.predict(X_test)))\n",
    "print(\"SVM f1_score = \"        , metrics.f1_score(y_test, svm_model.predict(X_test)))"
   ]
  },
  {
   "cell_type": "markdown",
   "metadata": {},
   "source": [
    "### 3.5. Decision Tree "
   ]
  },
  {
   "cell_type": "code",
   "execution_count": 375,
   "metadata": {},
   "outputs": [],
   "source": [
    "tree_model = DecisionTreeClassifier(max_depth = 2).fit(X_train, y_train)"
   ]
  },
  {
   "cell_type": "code",
   "execution_count": 376,
   "metadata": {},
   "outputs": [
    {
     "name": "stdout",
     "output_type": "stream",
     "text": [
      "DT accuracy_score =  0.5652173913043478\n",
      "DT precision_score =  0.5833333333333334\n",
      "DT recall_score =  0.5833333333333334\n",
      "DT f1_score =  0.5833333333333334\n"
     ]
    }
   ],
   "source": [
    "print(\"DT accuracy_score = \"  , metrics.accuracy_score(y_test, tree_model.predict(X_test)))\n",
    "print(\"DT precision_score = \" , metrics.precision_score(y_test, tree_model.predict(X_test)))\n",
    "print(\"DT recall_score = \"    , metrics.recall_score(y_test, tree_model.predict(X_test)))\n",
    "print(\"DT f1_score = \"        , metrics.f1_score(y_test, tree_model.predict(X_test)))"
   ]
  },
  {
   "cell_type": "markdown",
   "metadata": {},
   "source": [
    "### 3.6. Logistic Regression "
   ]
  },
  {
   "cell_type": "code",
   "execution_count": 392,
   "metadata": {},
   "outputs": [],
   "source": [
    "lr_model = LogisticRegression(solver = 'lbfgs', C = 0.2).fit(X_train, y_train)"
   ]
  },
  {
   "cell_type": "code",
   "execution_count": 393,
   "metadata": {},
   "outputs": [
    {
     "name": "stdout",
     "output_type": "stream",
     "text": [
      "LR accuracy_score =  0.6521739130434783\n",
      "LR precision_score =  0.6666666666666666\n",
      "LR recall_score =  0.6666666666666666\n",
      "LR f1_score =  0.6666666666666666\n"
     ]
    }
   ],
   "source": [
    "print(\"LR accuracy_score = \"  , metrics.accuracy_score(y_test, lr_model.predict(X_test)))\n",
    "print(\"LR precision_score = \" , metrics.precision_score(y_test, lr_model.predict(X_test)))\n",
    "print(\"LR recall_score = \"    , metrics.recall_score(y_test, lr_model.predict(X_test)))\n",
    "print(\"LR f1_score = \"        , metrics.f1_score(y_test, lr_model.predict(X_test)))"
   ]
  },
  {
   "cell_type": "markdown",
   "metadata": {},
   "source": [
    "### 3.7. Simple Neural Network (Multilayer perceprton)"
   ]
  },
  {
   "cell_type": "code",
   "execution_count": 489,
   "metadata": {},
   "outputs": [
    {
     "name": "stderr",
     "output_type": "stream",
     "text": [
      "c:\\program files\\python 3.5\\lib\\site-packages\\sklearn\\neural_network\\multilayer_perceptron.py:562: ConvergenceWarning: Stochastic Optimizer: Maximum iterations (200) reached and the optimization hasn't converged yet.\n",
      "  % self.max_iter, ConvergenceWarning)\n"
     ]
    }
   ],
   "source": [
    "mpl_model = MLPClassifier(hidden_layer_sizes  = (4, 1), activation = 'relu', random_state = 0).fit(X_train, y_train)"
   ]
  },
  {
   "cell_type": "code",
   "execution_count": 519,
   "metadata": {},
   "outputs": [
    {
     "name": "stdout",
     "output_type": "stream",
     "text": [
      "MPL accuracy_score =  0.7391304347826086\n",
      "MPL precision_score =  0.7142857142857143\n",
      "MPL recall_score =  0.8333333333333334\n",
      "MPL f1_score =  0.7692307692307692\n"
     ]
    }
   ],
   "source": [
    "print(\"MPL accuracy_score = \"  , metrics.accuracy_score(y_test, mpl_model.predict(X_test)))\n",
    "print(\"MPL precision_score = \" , metrics.precision_score(y_test, mpl_model.predict(X_test)))\n",
    "print(\"MPL recall_score = \"    , metrics.recall_score(y_test, mpl_model.predict(X_test)))\n",
    "print(\"MPL f1_score = \"        , metrics.f1_score(y_test, mpl_model.predict(X_test)))"
   ]
  },
  {
   "cell_type": "markdown",
   "metadata": {},
   "source": [
    "3.8. Create AUC"
   ]
  },
  {
   "cell_type": "code",
   "execution_count": 563,
   "metadata": {},
   "outputs": [
    {
     "name": "stdout",
     "output_type": "stream",
     "text": [
      "AUC kNN: 0.5227272727272727\n",
      "AUC SVM: 0.5340909090909092\n",
      "AUC LR: 0.5454545454545454\n",
      "AUC DT: 0.5643939393939393\n",
      "AUC MPL: 0.7916666666666667\n"
     ]
    },
    {
     "data": {
      "image/png": "[encoded data removed]",
      "text/plain": [
       "<Figure size 1080x720 with 1 Axes>"
      ]
     },
     "metadata": {
      "needs_background": "light"
     },
     "output_type": "display_data"
    }
   ],
   "source": [
    "import matplotlib.pyplot as plt\n",
    "\n",
    "fpr, tpr, _ = metrics.roc_curve(y_test, knn_model.predict_proba(X_test).T[0], pos_label = 0)\n",
    "auc = np.trapz(tpr,fpr)\n",
    "print('AUC kNN:', auc)\n",
    "plt.plot(fpr,tpr)\n",
    "\n",
    "fpr, tpr, _ = metrics.roc_curve(y_test, svm_model.predict_proba(X_test).T[0], pos_label = 0)\n",
    "auc = np.trapz(tpr,fpr)\n",
    "print('AUC SVM:', auc)\n",
    "plt.plot(fpr,tpr)\n",
    "\n",
    "fpr, tpr, _ = metrics.roc_curve(y_test, lr_model.predict_proba(X_test).T[0], pos_label = 0)\n",
    "auc = np.trapz(tpr,fpr)\n",
    "print('AUC LR:', auc)\n",
    "plt.plot(fpr,tpr)\n",
    "\n",
    "fpr, tpr, _ = metrics.roc_curve(y_test, tree_model.predict_proba(X_test).T[0], pos_label = 0)\n",
    "auc = np.trapz(tpr,fpr)\n",
    "print('AUC DT:', auc)\n",
    "plt.plot(fpr,tpr)\n",
    "\n",
    "fpr, tpr, _ = metrics.roc_curve(y_test, mpl_model.predict_proba(X_test).T[0], pos_label = 0)\n",
    "auc = np.trapz(tpr,fpr)\n",
    "print('AUC MPL:', auc)\n",
    "plt.plot(fpr,tpr)\n",
    "\n",
    "plt.legend(['kNN', 'SVM', 'LR', 'DT', 'MPL'])\n",
    "plt.title('AUC')\n",
    "plt.show() \n",
    "\n",
    "plt.rcParams[\"figure.figsize\"] = [15, 10]"
   ]
  },
  {
   "cell_type": "code",
   "execution_count": null,
   "metadata": {},
   "outputs": [],
   "source": []
  }
 ],
 "metadata": {
  "kernelspec": {
   "display_name": "Python 3",
   "language": "python",
   "name": "python3"
  },
  "language_info": {
   "codemirror_mode": {
    "name": "ipython",
    "version": 3
   },
   "file_extension": ".py",
   "mimetype": "text/x-python",
   "name": "python",
   "nbconvert_exporter": "python",
   "pygments_lexer": "ipython3",
   "version": "3.5.0"
  }
 },
 "nbformat": 4,
 "nbformat_minor": 2
}
